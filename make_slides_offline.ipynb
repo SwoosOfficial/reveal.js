{
 "cells": [
  {
   "cell_type": "code",
   "execution_count": 1,
   "metadata": {},
   "outputs": [],
   "source": [
    "import requests\n",
    "import re\n",
    "import os\n",
    "\n",
    "download = False\n",
    "filename = 'slides-pronperovskites.html'\n",
    "max_url_length = 512 #chars\n",
    "url_string = '\\\"http'\n",
    "cdn_string = 'amazonaws'\n",
    "\n",
    "out_filename = \"index.html\"\n",
    "\n",
    "src_foldername = 'src'\n"
   ]
  },
  {
   "cell_type": "code",
   "execution_count": 2,
   "metadata": {},
   "outputs": [],
   "source": [
    "with open(filename,'r') as f:\n",
    "    s = f.read()\n",
    "    url_pos_list = []\n",
    "    for m in re.finditer('\\\"http',s):\n",
    "        url_pos = m.start()\n",
    "        start_of_url_pos = url_pos+1\n",
    "        end_of_url_pos = s[start_of_url_pos:start_of_url_pos+max_url_length].find('\\\"')+start_of_url_pos\n",
    "        url_pos_list.append((start_of_url_pos,end_of_url_pos))"
   ]
  },
  {
   "cell_type": "code",
   "execution_count": 3,
   "metadata": {},
   "outputs": [],
   "source": [
    "urls = [s[url_pos[0]:url_pos[1]] for url_pos in url_pos_list]\n",
    "content_urls = [(url,url_pos_tup) for url, url_pos_tup in zip(urls,url_pos_list) if cdn_string in url]"
   ]
  },
  {
   "cell_type": "code",
   "execution_count": 4,
   "metadata": {},
   "outputs": [],
   "source": [
    "try:\n",
    "    os.mkdir(src_foldername)\n",
    "except FileExistsError:\n",
    "    pass"
   ]
  },
  {
   "cell_type": "code",
   "execution_count": 5,
   "metadata": {},
   "outputs": [],
   "source": [
    "s_prev = 0\n",
    "new_file =\"\"\n",
    "for url, pos in content_urls:\n",
    "\n",
    "    local_path_file = os.path.join(src_foldername,*url.split('/')[3:])\n",
    "    local_path = os.path.join(src_foldername,*url.split('/')[3:-1])\n",
    "    try:\n",
    "        os.makedirs(local_path)\n",
    "    except FileExistsError:\n",
    "        pass\n",
    "    if download:\n",
    "        r = requests.get(url, allow_redirects=True)\n",
    "        with open(local_path_file,'wb') as f:\n",
    "            f.write(r.content)\n",
    "    new_file += s[s_prev:pos[0]]\n",
    "    new_file += local_path_file\n",
    "    s_prev = pos[1]\n",
    "new_file += s[s_prev:]"
   ]
  },
  {
   "cell_type": "code",
   "execution_count": 6,
   "metadata": {},
   "outputs": [],
   "source": [
    "with open(out_filename, 'w') as f:\n",
    "    f.write(new_file)"
   ]
  },
  {
   "cell_type": "code",
   "execution_count": null,
   "metadata": {},
   "outputs": [],
   "source": []
  }
 ],
 "metadata": {
  "kernelspec": {
   "display_name": ".mypython",
   "language": "python",
   "name": ".mypython"
  },
  "language_info": {
   "codemirror_mode": {
    "name": "ipython",
    "version": 3
   },
   "file_extension": ".py",
   "mimetype": "text/x-python",
   "name": "python",
   "nbconvert_exporter": "python",
   "pygments_lexer": "ipython3",
   "version": "3.8.5"
  }
 },
 "nbformat": 4,
 "nbformat_minor": 4
}
